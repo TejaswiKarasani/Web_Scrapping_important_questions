{
 "cells": [
  {
   "cell_type": "code",
   "execution_count": 118,
   "metadata": {},
   "outputs": [
    {
     "name": "stdout",
     "output_type": "stream",
     "text": [
      "507\n",
      "['Array', 'Searching & Sorting', 'String', 'Matrix', 'BackTracking', 'Greedy', 'Dynamic Programming', 'Stacks & Queues', 'LinkedList', 'Generic Trees', 'Binary Trees', 'Binary Search Trees', 'Order Statistics & Heap & Hash', 'Graphs', 'Bit Manipulation', 'Maths', 'Geometry', 'Trie', 'Union Find']\n"
     ]
    }
   ],
   "source": [
    "import urllib3\n",
    "from bs4 import BeautifulSoup\n",
    "import requests\n",
    "import csv\n",
    "\n",
    "file = open(\"top600.csv\", 'w')\n",
    "writer = csv.writer(file)\n",
    "writer.writerow(['SN', 'NAME', 'LINK'])\n",
    "count = 1\n",
    "h = {}\n",
    "\n",
    "\n",
    "url = 'https://www.pepcoding.com/most-important-interview-questions-list-for-product-based-companies'\n",
    "page = requests.get(url)\n",
    "soup = BeautifulSoup(page.content, 'html.parser')\n",
    " \n",
    "count_name = 0\n",
    "for name in soup.find_all(\"span\", {\"class\":'no-padding black-text col l10 s9 m10 push-s1 no-margin questions-name'}):\n",
    "    n = name.get_text().strip()\n",
    "    count_name += 1\n",
    "    h[count_name] = [count_name, n]\n",
    "\n",
    "i = 1\n",
    "for link in soup.find_all('a', target='_blank'):\n",
    "    l = str(link.get('href'))\n",
    "    if l.startswith(\"https://www.careercup.com/\") or l.startswith(\"http://\") or l.startswith('https://www.codechef.com') or l.startswith('https://www.geeksforgeeks.org/') or (l.startswith('https://leetcode.com/')) or (l.startswith('https://careercup.com/')) or (l.startswith('https://www.hackerrank.com/')) or (l.startswith('https://www.hackerearth.com/')) or (l.startswith('http://codeforces.com/')) or (l.startswith('https://www.ideserve.co.in/')):  \n",
    "        if i < 192:\n",
    "            h.get(i).append(l)\n",
    "        if i > 193:\n",
    "            h.get(i + 2).append(l)\n",
    "        i += 1\n",
    "        count += 1\n",
    "print(count)\n",
    "\n",
    "count_heading = 0\n",
    "heading = []\n",
    "for heading_name in soup.find_all(\"div\", {\"class\":'collapsible-header bold active'}):\n",
    "    header = heading_name.get_text().strip()\n",
    "    count_heading += 1\n",
    "    heading.append(header)\n",
    "print(heading)\n",
    "\n",
    "\n",
    "nums = [1, 50, 80, 134, 153, 172, 194, 248,269,300, 312, 364, 392, 422, 458, 478, 488, 500, 506]\n",
    "heading_index = 0\n",
    "for val in h.values():\n",
    "    if val[0] in nums:\n",
    "        heading_function(writer,heading_index)\n",
    "        heading_index += 1\n",
    "    writer.writerow(val)  \n",
    "\n",
    "file.close()\n",
    "#codechef\n",
    "#gfg\n",
    "#leetcode\n",
    "#careercup\n",
    "#hackerrank\n",
    "#codeforces\n",
    "#ideserve\n"
   ]
  },
  {
   "cell_type": "code",
   "execution_count": 104,
   "metadata": {},
   "outputs": [],
   "source": [
    "def heading_function(writer, heading_index):\n",
    "    writer.writerow([heading_index + 1, heading[heading_index].upper()])\n"
   ]
  }
 ],
 "metadata": {
  "kernelspec": {
   "display_name": "Python 3",
   "language": "python",
   "name": "python3"
  },
  "language_info": {
   "codemirror_mode": {
    "name": "ipython",
    "version": 3
   },
   "file_extension": ".py",
   "mimetype": "text/x-python",
   "name": "python",
   "nbconvert_exporter": "python",
   "pygments_lexer": "ipython3",
   "version": "3.8.3"
  }
 },
 "nbformat": 4,
 "nbformat_minor": 4
}
